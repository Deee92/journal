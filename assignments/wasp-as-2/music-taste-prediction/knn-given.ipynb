{
 "cells": [
  {
   "cell_type": "code",
   "execution_count": 1,
   "metadata": {},
   "outputs": [],
   "source": [
    "import numpy as np\n",
    "from sklearn.neighbors import KNeighborsClassifier\n",
    "import pandas as pd #for reading csv files"
   ]
  },
  {
   "cell_type": "code",
   "execution_count": 2,
   "metadata": {},
   "outputs": [],
   "source": [
    "training=pd.read_csv('training_data.csv', sep=',')\n",
    "test=pd.read_csv('songs_to_classify.csv', sep=',')"
   ]
  },
  {
   "cell_type": "code",
   "execution_count": 3,
   "metadata": {},
   "outputs": [],
   "source": [
    "# select which features to use\n",
    "features = ['danceability','key','loudness','instrumentalness','liveness']\n",
    "X_train = training.loc[:,features].values\n",
    "y_train = training.loc[:,'label'].values\n",
    "X_test = test.loc[:,features].values"
   ]
  },
  {
   "cell_type": "code",
   "execution_count": 4,
   "metadata": {},
   "outputs": [],
   "source": [
    "# Normalize data. Can also be done using sklearn methods such as\n",
    "# MinMaxScaler()\n",
    "X_trainn = X_train*1/np.max(np.abs(X_train),axis=0)\n",
    "X_testn = X_test*1/np.max(np.abs(X_train),axis=0)"
   ]
  },
  {
   "cell_type": "code",
   "execution_count": 5,
   "metadata": {},
   "outputs": [],
   "source": [
    "# note: all inputs/features are treated as quantitative/numeric\n",
    "# some of the features are perhaps more sensible to treat as\n",
    "# qualitative/cathegorical. For that sklearn preprocessing methods\n",
    "# such as OneHotEncoder() can be used\n",
    "\n",
    "# define the k-NN model. To set n_neighbors in a systematic way, use cross validation!\n",
    "knnmodel = KNeighborsClassifier(n_neighbors = 5)"
   ]
  },
  {
   "cell_type": "code",
   "execution_count": 6,
   "metadata": {},
   "outputs": [
    {
     "data": {
      "text/plain": [
       "KNeighborsClassifier(algorithm='auto', leaf_size=30, metric='minkowski',\n",
       "                     metric_params=None, n_jobs=None, n_neighbors=5, p=2,\n",
       "                     weights='uniform')"
      ]
     },
     "execution_count": 6,
     "metadata": {},
     "output_type": "execute_result"
    }
   ],
   "source": [
    "# feed it with data and train it\n",
    "knnmodel.fit(X=X_trainn,y=y_train)"
   ]
  },
  {
   "cell_type": "code",
   "execution_count": 7,
   "metadata": {},
   "outputs": [
    {
     "name": "stdout",
     "output_type": "stream",
     "text": [
      "[[0 1 0 1 0 0 0 1 0 0 1 0 0 1 1 1 1 0 1 1 0 0 1 0 0 1 1 0 0 1 1 1 1 1 0 1\n",
      "  1 1 0 1 0 1 0 1 1 1 0 1 1 0 1 0 1 0 0 1 1 1 0 0 1 1 0 0 1 1 1 0 1 1 1 0\n",
      "  1 1 1 1 0 1 1 0 1 1 0 0 1 0 1 1 1 1 1 0 0 0 1 0 1 1 1 1 0 0 1 0 0 1 0 0\n",
      "  0 1 1 1 0 1 1 0 0 1 0 0 0 1 1 0 1 1 1 1 1 1 1 1 0 1 1 1 1 1 1 0 1 0 0 1\n",
      "  1 1 0 0 1 0 1 1 1 0 1 1 1 1 1 1 0 1 0 1 1 1 1 1 1 1 1 1 1 0 1 0 1 1 1 0\n",
      "  1 1 1 1 1 1 1 0 0 0 1 0 0 0 1 1 1 1 1 1]]\n"
     ]
    }
   ],
   "source": [
    "# make predictions\n",
    "predictions = knnmodel.predict(X=X_testn).reshape(-1,1).astype(int).reshape(1,-1)\n",
    "print(predictions)"
   ]
  },
  {
   "cell_type": "code",
   "execution_count": null,
   "metadata": {},
   "outputs": [],
   "source": []
  }
 ],
 "metadata": {
  "kernelspec": {
   "display_name": "Python 3",
   "language": "python",
   "name": "python3"
  },
  "language_info": {
   "codemirror_mode": {
    "name": "ipython",
    "version": 3
   },
   "file_extension": ".py",
   "mimetype": "text/x-python",
   "name": "python",
   "nbconvert_exporter": "python",
   "pygments_lexer": "ipython3",
   "version": "3.7.6"
  }
 },
 "nbformat": 4,
 "nbformat_minor": 4
}
