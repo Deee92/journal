{
 "cells": [
  {
   "cell_type": "code",
   "execution_count": 1,
   "metadata": {},
   "outputs": [],
   "source": [
    "import pandas as pd\n",
    "import re"
   ]
  },
  {
   "cell_type": "code",
   "execution_count": 2,
   "metadata": {},
   "outputs": [
    {
     "data": {
      "text/plain": [
       "(137, 15)"
      ]
     },
     "execution_count": 2,
     "metadata": {},
     "output_type": "execute_result"
    }
   ],
   "source": [
    "df = pd.read_csv(\"./instrumentation-candidates-pdfbox.csv\")\n",
    "df.shape"
   ]
  },
  {
   "cell_type": "code",
   "execution_count": 3,
   "metadata": {},
   "outputs": [
    {
     "data": {
      "text/html": [
       "<div>\n",
       "<style scoped>\n",
       "    .dataframe tbody tr th:only-of-type {\n",
       "        vertical-align: middle;\n",
       "    }\n",
       "\n",
       "    .dataframe tbody tr th {\n",
       "        vertical-align: top;\n",
       "    }\n",
       "\n",
       "    .dataframe thead th {\n",
       "        text-align: right;\n",
       "    }\n",
       "</style>\n",
       "<table border=\"1\" class=\"dataframe\">\n",
       "  <thead>\n",
       "    <tr style=\"text-align: right;\">\n",
       "      <th></th>\n",
       "      <th>visibility</th>\n",
       "      <th>parent-FQN</th>\n",
       "      <th>method-name</th>\n",
       "      <th>param-list</th>\n",
       "      <th>return-type</th>\n",
       "      <th>local-variables</th>\n",
       "      <th>conditionals</th>\n",
       "      <th>multiple-statements</th>\n",
       "      <th>loops</th>\n",
       "      <th>parameters</th>\n",
       "      <th>returns</th>\n",
       "      <th>switches</th>\n",
       "      <th>ifs</th>\n",
       "      <th>static</th>\n",
       "      <th>returns-primitives</th>\n",
       "    </tr>\n",
       "  </thead>\n",
       "  <tbody>\n",
       "    <tr>\n",
       "      <th>0</th>\n",
       "      <td>public</td>\n",
       "      <td>org.apache.fontbox.ttf.VerticalMetricsTable</td>\n",
       "      <td>getAdvanceHeight</td>\n",
       "      <td>int</td>\n",
       "      <td>int</td>\n",
       "      <td>False</td>\n",
       "      <td>False</td>\n",
       "      <td>False</td>\n",
       "      <td>False</td>\n",
       "      <td>True</td>\n",
       "      <td>True</td>\n",
       "      <td>False</td>\n",
       "      <td>True</td>\n",
       "      <td>False</td>\n",
       "      <td>True</td>\n",
       "    </tr>\n",
       "    <tr>\n",
       "      <th>1</th>\n",
       "      <td>public</td>\n",
       "      <td>org.apache.fontbox.util.BoundingBox</td>\n",
       "      <td>contains</td>\n",
       "      <td>float, float</td>\n",
       "      <td>boolean</td>\n",
       "      <td>False</td>\n",
       "      <td>False</td>\n",
       "      <td>False</td>\n",
       "      <td>False</td>\n",
       "      <td>True</td>\n",
       "      <td>True</td>\n",
       "      <td>False</td>\n",
       "      <td>False</td>\n",
       "      <td>False</td>\n",
       "      <td>True</td>\n",
       "    </tr>\n",
       "    <tr>\n",
       "      <th>2</th>\n",
       "      <td>private</td>\n",
       "      <td>org.apache.pdfbox.pdmodel.encryption.AccessPer...</td>\n",
       "      <td>isPermissionBitOn</td>\n",
       "      <td>int</td>\n",
       "      <td>boolean</td>\n",
       "      <td>False</td>\n",
       "      <td>False</td>\n",
       "      <td>False</td>\n",
       "      <td>False</td>\n",
       "      <td>True</td>\n",
       "      <td>True</td>\n",
       "      <td>False</td>\n",
       "      <td>False</td>\n",
       "      <td>False</td>\n",
       "      <td>True</td>\n",
       "    </tr>\n",
       "    <tr>\n",
       "      <th>3</th>\n",
       "      <td>public</td>\n",
       "      <td>org.apache.pdfbox.util.SmallMap</td>\n",
       "      <td>size</td>\n",
       "      <td>NaN</td>\n",
       "      <td>int</td>\n",
       "      <td>False</td>\n",
       "      <td>True</td>\n",
       "      <td>False</td>\n",
       "      <td>False</td>\n",
       "      <td>False</td>\n",
       "      <td>True</td>\n",
       "      <td>False</td>\n",
       "      <td>False</td>\n",
       "      <td>False</td>\n",
       "      <td>True</td>\n",
       "    </tr>\n",
       "    <tr>\n",
       "      <th>4</th>\n",
       "      <td>private</td>\n",
       "      <td>org.apache.pdfbox.tools.PDFText2HTML$FontState</td>\n",
       "      <td>openTag</td>\n",
       "      <td>java.lang.String</td>\n",
       "      <td>java.lang.String</td>\n",
       "      <td>False</td>\n",
       "      <td>False</td>\n",
       "      <td>False</td>\n",
       "      <td>False</td>\n",
       "      <td>True</td>\n",
       "      <td>True</td>\n",
       "      <td>False</td>\n",
       "      <td>False</td>\n",
       "      <td>False</td>\n",
       "      <td>False</td>\n",
       "    </tr>\n",
       "  </tbody>\n",
       "</table>\n",
       "</div>"
      ],
      "text/plain": [
       "  visibility                                         parent-FQN  \\\n",
       "0     public        org.apache.fontbox.ttf.VerticalMetricsTable   \n",
       "1     public                org.apache.fontbox.util.BoundingBox   \n",
       "2    private  org.apache.pdfbox.pdmodel.encryption.AccessPer...   \n",
       "3     public                    org.apache.pdfbox.util.SmallMap   \n",
       "4    private     org.apache.pdfbox.tools.PDFText2HTML$FontState   \n",
       "\n",
       "         method-name        param-list       return-type  local-variables  \\\n",
       "0   getAdvanceHeight               int               int            False   \n",
       "1           contains      float, float           boolean            False   \n",
       "2  isPermissionBitOn               int           boolean            False   \n",
       "3               size               NaN               int            False   \n",
       "4            openTag  java.lang.String  java.lang.String            False   \n",
       "\n",
       "   conditionals  multiple-statements  loops  parameters  returns  switches  \\\n",
       "0         False                False  False        True     True     False   \n",
       "1         False                False  False        True     True     False   \n",
       "2         False                False  False        True     True     False   \n",
       "3          True                False  False       False     True     False   \n",
       "4         False                False  False        True     True     False   \n",
       "\n",
       "     ifs  static  returns-primitives  \n",
       "0   True   False                True  \n",
       "1  False   False                True  \n",
       "2  False   False                True  \n",
       "3  False   False                True  \n",
       "4  False   False               False  "
      ]
     },
     "execution_count": 3,
     "metadata": {},
     "output_type": "execute_result"
    }
   ],
   "source": [
    "df.head()"
   ]
  },
  {
   "cell_type": "code",
   "execution_count": 4,
   "metadata": {},
   "outputs": [],
   "source": [
    "count = 0;\n",
    "aspects = [];\n",
    "base_path = \"/home/user/dev/pankti-pdfbox-plugin/src/main/java/se/kth/castor/instrumentation/plugins/PDFBoxAspect\";\n",
    "template_file_path = base_path + str(0) + \".java\";\n",
    "for index, row in df.iterrows():\n",
    "    with open(template_file_path) as template:\n",
    "        count += 1;\n",
    "        aspect_string = \"\\\"se.kth.castor.instrumentation.plugin.PDFBoxAspect\" + str(count) + \"\\\"\";\n",
    "        aspects.append(aspect_string);\n",
    "        new_file_path = base_path + str(count) + \".java\";\n",
    "        with open(new_file_path, \"w\") as f:\n",
    "            for line in template:\n",
    "                if (\"public class PDFBoxAspect0\" in line):\n",
    "                    line = line.replace(\"0\", str(count));\n",
    "                if (\"@Pointcut(className =\" in line):\n",
    "                    line = re.sub(r\"=\\s\\\"(.+)\\\",\", \"= \\\"\" + row['parent-FQN'] + \"\\\",\", line);\n",
    "                if (\"methodName = \" in line):\n",
    "                    line = re.sub(r\"=\\s\\\"(.+)\\\",\", \"= \\\"\" + row['method-name'] + \"\\\",\", line);\n",
    "                if (\"methodParameterTypes = \" in line):\n",
    "                    if (pd.isnull(row['param-list'])):\n",
    "                        paramList = \"\";\n",
    "                    else:\n",
    "                        paramList = str(row['param-list']);\n",
    "                        paramList = re.sub(r\"([a-zA-Z0-9\\$\\.\\[\\]]+)\", \"\\\"\" + r\"\\1\" + \"\\\"\", paramList);\n",
    "                    line = re.sub(r\"=\\s{.*},\", \"= {\" + paramList + \"},\", line);\n",
    "                if (\"timerName = \" in line):\n",
    "                    line = re.sub(r\"=\\s\\\".+\\\"\\)\", \"= \\\"\" + row['parent-FQN'] + \"-\" + row['method-name'] + \"\\\")\", line);\n",
    "                if (\"int COUNT = \" in line):\n",
    "                    line = re.sub(r\"=\\s\\d+;\", \"= \" + str(count) + \";\", line);\n",
    "                f.write(line)"
   ]
  },
  {
   "cell_type": "code",
   "execution_count": 5,
   "metadata": {},
   "outputs": [
    {
     "name": "stdout",
     "output_type": "stream",
     "text": [
      "137\n"
     ]
    }
   ],
   "source": [
    "print(len(aspects))"
   ]
  },
  {
   "cell_type": "code",
   "execution_count": 6,
   "metadata": {},
   "outputs": [],
   "source": [
    "plugin_json_path = \"/home/user/dev/pankti-pdfbox-plugin/src/main/resources/META-INF/glowroot.plugin.json\";\n",
    "index = 0\n",
    "aspect_lines = \"\";\n",
    "for i in range(len(aspects)):\n",
    "    aspect_lines += aspects[i];\n",
    "    if i != (len(aspects)-1):\n",
    "        aspect_lines += \",\\n\";\n",
    "with open(plugin_json_path, \"r\") as json_file:\n",
    "    for num, line in enumerate(json_file, 1):\n",
    "        if \"aspects\" in line:\n",
    "            index = num\n",
    "with open(plugin_json_path, \"r+\") as json_file:\n",
    "    contents = json_file.readlines()\n",
    "    contents.insert(index, aspect_lines)\n",
    "    json_file.seek(0)\n",
    "    json_file.writelines(contents)"
   ]
  },
  {
   "cell_type": "code",
   "execution_count": null,
   "metadata": {},
   "outputs": [],
   "source": []
  }
 ],
 "metadata": {
  "kernelspec": {
   "display_name": "Python 3",
   "language": "python",
   "name": "python3"
  },
  "language_info": {
   "codemirror_mode": {
    "name": "ipython",
    "version": 3
   },
   "file_extension": ".py",
   "mimetype": "text/x-python",
   "name": "python",
   "nbconvert_exporter": "python",
   "pygments_lexer": "ipython3",
   "version": "3.7.6"
  }
 },
 "nbformat": 4,
 "nbformat_minor": 4
}
