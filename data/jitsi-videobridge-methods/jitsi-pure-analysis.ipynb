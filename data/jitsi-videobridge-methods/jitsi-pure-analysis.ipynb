{
 "cells": [
  {
   "cell_type": "code",
   "execution_count": 25,
   "metadata": {},
   "outputs": [],
   "source": [
    "import pandas as pd\n",
    "import re"
   ]
  },
  {
   "cell_type": "code",
   "execution_count": 26,
   "metadata": {},
   "outputs": [
    {
     "data": {
      "text/plain": [
       "(105, 6)"
      ]
     },
     "execution_count": 26,
     "metadata": {},
     "output_type": "execute_result"
    }
   ],
   "source": [
    "df = pd.read_csv(\"./pure-methods-jitsi-videobridge.csv\")\n",
    "df.shape"
   ]
  },
  {
   "cell_type": "code",
   "execution_count": 27,
   "metadata": {},
   "outputs": [],
   "source": [
    "def extract_from_tags(tag, tags):\n",
    "    search_string = tag + \"=[\\w]+\"\n",
    "    extracted_tag = re.findall(search_string, tags)[0]\n",
    "    extracted_tag = re.findall(\"\\=(.*)\", extracted_tag)[0]\n",
    "    if extracted_tag == \"true\":\n",
    "        return True\n",
    "    else:\n",
    "        return False"
   ]
  },
  {
   "cell_type": "code",
   "execution_count": 28,
   "metadata": {},
   "outputs": [
    {
     "data": {
      "text/html": [
       "<div>\n",
       "<style scoped>\n",
       "    .dataframe tbody tr th:only-of-type {\n",
       "        vertical-align: middle;\n",
       "    }\n",
       "\n",
       "    .dataframe tbody tr th {\n",
       "        vertical-align: top;\n",
       "    }\n",
       "\n",
       "    .dataframe thead th {\n",
       "        text-align: right;\n",
       "    }\n",
       "</style>\n",
       "<table border=\"1\" class=\"dataframe\">\n",
       "  <thead>\n",
       "    <tr style=\"text-align: right;\">\n",
       "      <th></th>\n",
       "      <th>visibility</th>\n",
       "      <th>parent-FQN</th>\n",
       "      <th>method-name</th>\n",
       "      <th>param-list</th>\n",
       "      <th>return-type</th>\n",
       "      <th>local-variables</th>\n",
       "      <th>conditionals</th>\n",
       "      <th>multiple-statements</th>\n",
       "      <th>loops</th>\n",
       "      <th>parameters</th>\n",
       "      <th>returns</th>\n",
       "      <th>switches</th>\n",
       "      <th>ifs</th>\n",
       "      <th>static</th>\n",
       "      <th>returns-primitives</th>\n",
       "    </tr>\n",
       "  </thead>\n",
       "  <tbody>\n",
       "    <tr>\n",
       "      <th>0</th>\n",
       "      <td>NaN</td>\n",
       "      <td>org.jitsi.videobridge.cc.vp8.VP8Frame</td>\n",
       "      <td>getMaxSequenceNumber</td>\n",
       "      <td></td>\n",
       "      <td>int</td>\n",
       "      <td>False</td>\n",
       "      <td>False</td>\n",
       "      <td>False</td>\n",
       "      <td>False</td>\n",
       "      <td>False</td>\n",
       "      <td>True</td>\n",
       "      <td>False</td>\n",
       "      <td>False</td>\n",
       "      <td>False</td>\n",
       "      <td>True</td>\n",
       "    </tr>\n",
       "    <tr>\n",
       "      <th>1</th>\n",
       "      <td>public</td>\n",
       "      <td>org.jitsi.videobridge.Conference</td>\n",
       "      <td>getGid</td>\n",
       "      <td></td>\n",
       "      <td>java.lang.String</td>\n",
       "      <td>False</td>\n",
       "      <td>False</td>\n",
       "      <td>False</td>\n",
       "      <td>False</td>\n",
       "      <td>False</td>\n",
       "      <td>True</td>\n",
       "      <td>False</td>\n",
       "      <td>False</td>\n",
       "      <td>False</td>\n",
       "      <td>False</td>\n",
       "    </tr>\n",
       "    <tr>\n",
       "      <th>2</th>\n",
       "      <td>NaN</td>\n",
       "      <td>org.jitsi.videobridge.cc.vp8.VP8Frame</td>\n",
       "      <td>needsKeyframe</td>\n",
       "      <td></td>\n",
       "      <td>boolean</td>\n",
       "      <td>False</td>\n",
       "      <td>False</td>\n",
       "      <td>False</td>\n",
       "      <td>False</td>\n",
       "      <td>False</td>\n",
       "      <td>True</td>\n",
       "      <td>False</td>\n",
       "      <td>False</td>\n",
       "      <td>False</td>\n",
       "      <td>True</td>\n",
       "    </tr>\n",
       "    <tr>\n",
       "      <th>3</th>\n",
       "      <td>NaN</td>\n",
       "      <td>org.jitsi.videobridge.cc.vp8.VP8QualityFilter</td>\n",
       "      <td>needsKeyframe</td>\n",
       "      <td></td>\n",
       "      <td>boolean</td>\n",
       "      <td>False</td>\n",
       "      <td>False</td>\n",
       "      <td>False</td>\n",
       "      <td>False</td>\n",
       "      <td>False</td>\n",
       "      <td>True</td>\n",
       "      <td>False</td>\n",
       "      <td>False</td>\n",
       "      <td>False</td>\n",
       "      <td>True</td>\n",
       "    </tr>\n",
       "    <tr>\n",
       "      <th>4</th>\n",
       "      <td>public</td>\n",
       "      <td>org.jitsi.videobridge.cc.GenericAdaptiveTrackP...</td>\n",
       "      <td>needsKeyframe</td>\n",
       "      <td></td>\n",
       "      <td>boolean</td>\n",
       "      <td>False</td>\n",
       "      <td>False</td>\n",
       "      <td>False</td>\n",
       "      <td>False</td>\n",
       "      <td>False</td>\n",
       "      <td>True</td>\n",
       "      <td>False</td>\n",
       "      <td>False</td>\n",
       "      <td>False</td>\n",
       "      <td>True</td>\n",
       "    </tr>\n",
       "  </tbody>\n",
       "</table>\n",
       "</div>"
      ],
      "text/plain": [
       "  visibility                                         parent-FQN  \\\n",
       "0        NaN              org.jitsi.videobridge.cc.vp8.VP8Frame   \n",
       "1     public                   org.jitsi.videobridge.Conference   \n",
       "2        NaN              org.jitsi.videobridge.cc.vp8.VP8Frame   \n",
       "3        NaN      org.jitsi.videobridge.cc.vp8.VP8QualityFilter   \n",
       "4     public  org.jitsi.videobridge.cc.GenericAdaptiveTrackP...   \n",
       "\n",
       "            method-name param-list       return-type local-variables  \\\n",
       "0  getMaxSequenceNumber                          int           False   \n",
       "1                getGid             java.lang.String           False   \n",
       "2         needsKeyframe                      boolean           False   \n",
       "3         needsKeyframe                      boolean           False   \n",
       "4         needsKeyframe                      boolean           False   \n",
       "\n",
       "  conditionals multiple-statements  loops parameters returns switches    ifs  \\\n",
       "0        False               False  False      False    True    False  False   \n",
       "1        False               False  False      False    True    False  False   \n",
       "2        False               False  False      False    True    False  False   \n",
       "3        False               False  False      False    True    False  False   \n",
       "4        False               False  False      False    True    False  False   \n",
       "\n",
       "  static returns-primitives  \n",
       "0  False               True  \n",
       "1  False              False  \n",
       "2  False               True  \n",
       "3  False               True  \n",
       "4  False               True  "
      ]
     },
     "execution_count": 28,
     "metadata": {},
     "output_type": "execute_result"
    }
   ],
   "source": [
    "cols = [\"visibility\", \"parent-FQN\", \"method-name\", \"param-list\", \"return-type\", \n",
    "        \"local-variables\", \"conditionals\", \"multiple-statements\", \"loops\", \"parameters\", \"returns\",\n",
    "        \"switches\", \"ifs\", \"static\", \"returns-primitives\"]\n",
    "final_df = pd.DataFrame(columns = cols)\n",
    "for index, row in df.iterrows():\n",
    "    final_df.loc[index, 'visibility'] = row['visibility']\n",
    "    final_df.loc[index, 'parent-FQN'] = row['parent-FQN']\n",
    "    final_df.loc[index, 'method-name'] = row['method-name']\n",
    "    final_df.loc[index, 'param-list'] = row['param-list'].lstrip('[').rsplit(']', 1)[0]\n",
    "    final_df.loc[index, 'return-type'] = row['return-type']\n",
    "    final_df.loc[index, 'local-variables'] = extract_from_tags(\"local_variables\", str(row['tags']))\n",
    "    final_df.loc[index, 'conditionals'] = extract_from_tags(\"conditionals\", str(row['tags']))\n",
    "    final_df.loc[index, 'multiple-statements'] = extract_from_tags(\"multiple_statements\", str(row['tags']))\n",
    "    final_df.loc[index, 'loops'] = extract_from_tags(\"loops\", str(row['tags']))\n",
    "    final_df.loc[index, 'parameters'] = extract_from_tags(\"parameters\", str(row['tags']))\n",
    "    final_df.loc[index, 'returns'] = extract_from_tags(\"returns\", str(row['tags']))\n",
    "    final_df.loc[index, 'switches'] = extract_from_tags(\"switches\", str(row['tags']))\n",
    "    final_df.loc[index, 'ifs'] = extract_from_tags(\"ifs\", str(row['tags']))\n",
    "    final_df.loc[index, 'static'] = extract_from_tags(\"static\", str(row['tags']))\n",
    "    final_df.loc[index, 'returns-primitives'] = extract_from_tags(\"returns_primitives\", str(row['tags']))\n",
    "\n",
    "final_df.head()"
   ]
  },
  {
   "cell_type": "markdown",
   "metadata": {},
   "source": [
    "### Methods that return objects"
   ]
  },
  {
   "cell_type": "code",
   "execution_count": 29,
   "metadata": {
    "scrolled": true
   },
   "outputs": [
    {
     "data": {
      "text/plain": [
       "57"
      ]
     },
     "execution_count": 29,
     "metadata": {},
     "output_type": "execute_result"
    }
   ],
   "source": [
    "(final_df[\"returns-primitives\"] == False).sum()"
   ]
  },
  {
   "cell_type": "markdown",
   "metadata": {},
   "source": [
    "### Methods that accept parameters"
   ]
  },
  {
   "cell_type": "code",
   "execution_count": 30,
   "metadata": {},
   "outputs": [
    {
     "data": {
      "text/plain": [
       "16"
      ]
     },
     "execution_count": 30,
     "metadata": {},
     "output_type": "execute_result"
    }
   ],
   "source": [
    "(final_df[\"parameters\"] == True).sum()"
   ]
  },
  {
   "cell_type": "markdown",
   "metadata": {},
   "source": [
    "### Methods with if statements"
   ]
  },
  {
   "cell_type": "code",
   "execution_count": 31,
   "metadata": {},
   "outputs": [
    {
     "data": {
      "text/plain": [
       "4"
      ]
     },
     "execution_count": 31,
     "metadata": {},
     "output_type": "execute_result"
    }
   ],
   "source": [
    "(final_df[\"ifs\"] == True).sum()"
   ]
  },
  {
   "cell_type": "markdown",
   "metadata": {},
   "source": [
    "### Methods wtih conditionals ?:"
   ]
  },
  {
   "cell_type": "code",
   "execution_count": 32,
   "metadata": {},
   "outputs": [
    {
     "data": {
      "text/plain": [
       "4"
      ]
     },
     "execution_count": 32,
     "metadata": {},
     "output_type": "execute_result"
    }
   ],
   "source": [
    "(final_df[\"conditionals\"] == True).sum()"
   ]
  },
  {
   "cell_type": "markdown",
   "metadata": {},
   "source": [
    "### Methods with local variables"
   ]
  },
  {
   "cell_type": "code",
   "execution_count": 33,
   "metadata": {},
   "outputs": [
    {
     "data": {
      "text/plain": [
       "2"
      ]
     },
     "execution_count": 33,
     "metadata": {},
     "output_type": "execute_result"
    }
   ],
   "source": [
    "(final_df[\"local-variables\"] == True).sum()"
   ]
  },
  {
   "cell_type": "markdown",
   "metadata": {},
   "source": [
    "### Methods with multiple statements"
   ]
  },
  {
   "cell_type": "code",
   "execution_count": 34,
   "metadata": {
    "scrolled": true
   },
   "outputs": [
    {
     "data": {
      "text/plain": [
       "4"
      ]
     },
     "execution_count": 34,
     "metadata": {},
     "output_type": "execute_result"
    }
   ],
   "source": [
    "(final_df[\"multiple-statements\"] == True).sum()"
   ]
  },
  {
   "cell_type": "code",
   "execution_count": 35,
   "metadata": {
    "scrolled": false
   },
   "outputs": [
    {
     "name": "stdout",
     "output_type": "stream",
     "text": [
      "(10, 15)\n"
     ]
    },
    {
     "data": {
      "text/html": [
       "<div>\n",
       "<style scoped>\n",
       "    .dataframe tbody tr th:only-of-type {\n",
       "        vertical-align: middle;\n",
       "    }\n",
       "\n",
       "    .dataframe tbody tr th {\n",
       "        vertical-align: top;\n",
       "    }\n",
       "\n",
       "    .dataframe thead th {\n",
       "        text-align: right;\n",
       "    }\n",
       "</style>\n",
       "<table border=\"1\" class=\"dataframe\">\n",
       "  <thead>\n",
       "    <tr style=\"text-align: right;\">\n",
       "      <th></th>\n",
       "      <th>visibility</th>\n",
       "      <th>parent-FQN</th>\n",
       "      <th>method-name</th>\n",
       "      <th>param-list</th>\n",
       "      <th>return-type</th>\n",
       "      <th>local-variables</th>\n",
       "      <th>conditionals</th>\n",
       "      <th>multiple-statements</th>\n",
       "      <th>loops</th>\n",
       "      <th>parameters</th>\n",
       "      <th>returns</th>\n",
       "      <th>switches</th>\n",
       "      <th>ifs</th>\n",
       "      <th>static</th>\n",
       "      <th>returns-primitives</th>\n",
       "    </tr>\n",
       "  </thead>\n",
       "  <tbody>\n",
       "    <tr>\n",
       "      <th>6</th>\n",
       "      <td>public</td>\n",
       "      <td>org.jitsi.videobridge.Conference$NoOpDiagnosti...</td>\n",
       "      <td>put</td>\n",
       "      <td>java.lang.String, java.lang.Object</td>\n",
       "      <td>java.lang.Object</td>\n",
       "      <td>False</td>\n",
       "      <td>False</td>\n",
       "      <td>False</td>\n",
       "      <td>False</td>\n",
       "      <td>True</td>\n",
       "      <td>True</td>\n",
       "      <td>False</td>\n",
       "      <td>False</td>\n",
       "      <td>False</td>\n",
       "      <td>False</td>\n",
       "    </tr>\n",
       "    <tr>\n",
       "      <th>7</th>\n",
       "      <td>public</td>\n",
       "      <td>org.jitsi.videobridge.Conference$NoOpTimeSerie...</td>\n",
       "      <td>put</td>\n",
       "      <td>java.lang.String, java.lang.Object</td>\n",
       "      <td>java.lang.Object</td>\n",
       "      <td>False</td>\n",
       "      <td>False</td>\n",
       "      <td>False</td>\n",
       "      <td>False</td>\n",
       "      <td>True</td>\n",
       "      <td>True</td>\n",
       "      <td>False</td>\n",
       "      <td>False</td>\n",
       "      <td>False</td>\n",
       "      <td>False</td>\n",
       "    </tr>\n",
       "    <tr>\n",
       "      <th>9</th>\n",
       "      <td>public</td>\n",
       "      <td>org.jitsi.videobridge.cc.GenericAdaptiveTrackP...</td>\n",
       "      <td>rewriteRtcp</td>\n",
       "      <td>org.jitsi.rtp.rtcp.RtcpSrPacket</td>\n",
       "      <td>boolean</td>\n",
       "      <td>False</td>\n",
       "      <td>False</td>\n",
       "      <td>False</td>\n",
       "      <td>False</td>\n",
       "      <td>True</td>\n",
       "      <td>True</td>\n",
       "      <td>False</td>\n",
       "      <td>False</td>\n",
       "      <td>False</td>\n",
       "      <td>True</td>\n",
       "    </tr>\n",
       "    <tr>\n",
       "      <th>40</th>\n",
       "      <td>private</td>\n",
       "      <td>org.jitsi.videobridge.cc.BitrateController$Tra...</td>\n",
       "      <td>getTargetBitrate</td>\n",
       "      <td></td>\n",
       "      <td>long</td>\n",
       "      <td>False</td>\n",
       "      <td>True</td>\n",
       "      <td>False</td>\n",
       "      <td>False</td>\n",
       "      <td>False</td>\n",
       "      <td>True</td>\n",
       "      <td>False</td>\n",
       "      <td>False</td>\n",
       "      <td>False</td>\n",
       "      <td>True</td>\n",
       "    </tr>\n",
       "    <tr>\n",
       "      <th>46</th>\n",
       "      <td>private</td>\n",
       "      <td>org.jitsi.videobridge.cc.BandwidthProbing</td>\n",
       "      <td>getSenderSSRC</td>\n",
       "      <td></td>\n",
       "      <td>long</td>\n",
       "      <td>False</td>\n",
       "      <td>True</td>\n",
       "      <td>False</td>\n",
       "      <td>False</td>\n",
       "      <td>False</td>\n",
       "      <td>True</td>\n",
       "      <td>False</td>\n",
       "      <td>False</td>\n",
       "      <td>False</td>\n",
       "      <td>True</td>\n",
       "    </tr>\n",
       "    <tr>\n",
       "      <th>64</th>\n",
       "      <td>NaN</td>\n",
       "      <td>org.jitsi.videobridge.cc.vp8.VP8FrameProjection</td>\n",
       "      <td>isFullyProjected</td>\n",
       "      <td>long</td>\n",
       "      <td>boolean</td>\n",
       "      <td>False</td>\n",
       "      <td>False</td>\n",
       "      <td>False</td>\n",
       "      <td>False</td>\n",
       "      <td>True</td>\n",
       "      <td>True</td>\n",
       "      <td>False</td>\n",
       "      <td>False</td>\n",
       "      <td>False</td>\n",
       "      <td>True</td>\n",
       "    </tr>\n",
       "    <tr>\n",
       "      <th>67</th>\n",
       "      <td>public</td>\n",
       "      <td>org.jitsi.videobridge.rest.ColibriWebSocketSer...</td>\n",
       "      <td>getColibriWebSocketUrl</td>\n",
       "      <td>java.lang.String, java.lang.String, java.lang....</td>\n",
       "      <td>java.lang.String</td>\n",
       "      <td>False</td>\n",
       "      <td>False</td>\n",
       "      <td>True</td>\n",
       "      <td>False</td>\n",
       "      <td>True</td>\n",
       "      <td>True</td>\n",
       "      <td>False</td>\n",
       "      <td>True</td>\n",
       "      <td>False</td>\n",
       "      <td>False</td>\n",
       "    </tr>\n",
       "    <tr>\n",
       "      <th>75</th>\n",
       "      <td>protected</td>\n",
       "      <td>org.jitsi.videobridge.octo.OctoEndpointMessage...</td>\n",
       "      <td>getId</td>\n",
       "      <td>java.lang.Object</td>\n",
       "      <td>java.lang.String</td>\n",
       "      <td>False</td>\n",
       "      <td>False</td>\n",
       "      <td>True</td>\n",
       "      <td>False</td>\n",
       "      <td>True</td>\n",
       "      <td>True</td>\n",
       "      <td>False</td>\n",
       "      <td>True</td>\n",
       "      <td>False</td>\n",
       "      <td>False</td>\n",
       "    </tr>\n",
       "    <tr>\n",
       "      <th>90</th>\n",
       "      <td>NaN</td>\n",
       "      <td>org.jitsi.videobridge.cc.vp8.VP8Frame</td>\n",
       "      <td>matchesSSRC</td>\n",
       "      <td>org.jitsi.videobridge.cc.vp8.VP8Frame</td>\n",
       "      <td>boolean</td>\n",
       "      <td>False</td>\n",
       "      <td>False</td>\n",
       "      <td>False</td>\n",
       "      <td>False</td>\n",
       "      <td>True</td>\n",
       "      <td>True</td>\n",
       "      <td>False</td>\n",
       "      <td>False</td>\n",
       "      <td>False</td>\n",
       "      <td>True</td>\n",
       "    </tr>\n",
       "    <tr>\n",
       "      <th>99</th>\n",
       "      <td>private</td>\n",
       "      <td>org.jitsi.videobridge.cc.BitrateController</td>\n",
       "      <td>getAvailableBandwidth</td>\n",
       "      <td>long</td>\n",
       "      <td>long</td>\n",
       "      <td>True</td>\n",
       "      <td>False</td>\n",
       "      <td>True</td>\n",
       "      <td>False</td>\n",
       "      <td>True</td>\n",
       "      <td>True</td>\n",
       "      <td>False</td>\n",
       "      <td>True</td>\n",
       "      <td>False</td>\n",
       "      <td>True</td>\n",
       "    </tr>\n",
       "  </tbody>\n",
       "</table>\n",
       "</div>"
      ],
      "text/plain": [
       "   visibility                                         parent-FQN  \\\n",
       "6      public  org.jitsi.videobridge.Conference$NoOpDiagnosti...   \n",
       "7      public  org.jitsi.videobridge.Conference$NoOpTimeSerie...   \n",
       "9      public  org.jitsi.videobridge.cc.GenericAdaptiveTrackP...   \n",
       "40    private  org.jitsi.videobridge.cc.BitrateController$Tra...   \n",
       "46    private          org.jitsi.videobridge.cc.BandwidthProbing   \n",
       "64        NaN    org.jitsi.videobridge.cc.vp8.VP8FrameProjection   \n",
       "67     public  org.jitsi.videobridge.rest.ColibriWebSocketSer...   \n",
       "75  protected  org.jitsi.videobridge.octo.OctoEndpointMessage...   \n",
       "90        NaN              org.jitsi.videobridge.cc.vp8.VP8Frame   \n",
       "99    private         org.jitsi.videobridge.cc.BitrateController   \n",
       "\n",
       "               method-name                                         param-list  \\\n",
       "6                      put                 java.lang.String, java.lang.Object   \n",
       "7                      put                 java.lang.String, java.lang.Object   \n",
       "9              rewriteRtcp                    org.jitsi.rtp.rtcp.RtcpSrPacket   \n",
       "40        getTargetBitrate                                                      \n",
       "46           getSenderSSRC                                                      \n",
       "64        isFullyProjected                                               long   \n",
       "67  getColibriWebSocketUrl  java.lang.String, java.lang.String, java.lang....   \n",
       "75                   getId                                   java.lang.Object   \n",
       "90             matchesSSRC              org.jitsi.videobridge.cc.vp8.VP8Frame   \n",
       "99   getAvailableBandwidth                                               long   \n",
       "\n",
       "         return-type local-variables conditionals multiple-statements  loops  \\\n",
       "6   java.lang.Object           False        False               False  False   \n",
       "7   java.lang.Object           False        False               False  False   \n",
       "9            boolean           False        False               False  False   \n",
       "40              long           False         True               False  False   \n",
       "46              long           False         True               False  False   \n",
       "64           boolean           False        False               False  False   \n",
       "67  java.lang.String           False        False                True  False   \n",
       "75  java.lang.String           False        False                True  False   \n",
       "90           boolean           False        False               False  False   \n",
       "99              long            True        False                True  False   \n",
       "\n",
       "   parameters returns switches    ifs static returns-primitives  \n",
       "6        True    True    False  False  False              False  \n",
       "7        True    True    False  False  False              False  \n",
       "9        True    True    False  False  False               True  \n",
       "40      False    True    False  False  False               True  \n",
       "46      False    True    False  False  False               True  \n",
       "64       True    True    False  False  False               True  \n",
       "67       True    True    False   True  False              False  \n",
       "75       True    True    False   True  False              False  \n",
       "90       True    True    False  False  False               True  \n",
       "99       True    True    False   True  False               True  "
      ]
     },
     "execution_count": 35,
     "metadata": {},
     "output_type": "execute_result"
    }
   ],
   "source": [
    "instrumentation_candidates_df = pd.DataFrame(columns = cols)\n",
    "instrumentation_candidates_df = final_df[((final_df['multiple-statements'] == True) | \n",
    "                                          (final_df['ifs'] == True) |\n",
    "                                          (final_df['conditionals'] == True) | \n",
    "                                          (final_df['parameters'] == True) | \n",
    "                                          (final_df['switches'] == True) |\n",
    "                                          (final_df['loops'] == True) |\n",
    "                                          (final_df['local-variables'] == True)) &\n",
    "                                          (final_df['static'] == False)]\n",
    "print(instrumentation_candidates_df.shape)\n",
    "instrumentation_candidates_df.to_csv(r'./instrumentation-candidates-jitsi.csv', index=False)\n",
    "instrumentation_candidates_df.tail(60)"
   ]
  },
  {
   "cell_type": "code",
   "execution_count": 36,
   "metadata": {},
   "outputs": [
    {
     "data": {
      "text/plain": [
       "['org.jitsi.videobridge.Conference$NoOpDiagnosticContext',\n",
       " 'org.jitsi.videobridge.Conference$NoOpTimeSeriesPoint',\n",
       " 'org.jitsi.videobridge.cc.BandwidthProbing',\n",
       " 'org.jitsi.videobridge.cc.BitrateController',\n",
       " 'org.jitsi.videobridge.cc.BitrateController$TrackBitrateAllocation',\n",
       " 'org.jitsi.videobridge.cc.GenericAdaptiveTrackProjectionContext',\n",
       " 'org.jitsi.videobridge.cc.vp8.VP8Frame',\n",
       " 'org.jitsi.videobridge.cc.vp8.VP8FrameProjection',\n",
       " 'org.jitsi.videobridge.octo.OctoEndpointMessageTransport',\n",
       " 'org.jitsi.videobridge.rest.ColibriWebSocketService']"
      ]
     },
     "execution_count": 36,
     "metadata": {},
     "output_type": "execute_result"
    }
   ],
   "source": [
    "sorted(instrumentation_candidates_df['parent-FQN'].unique())"
   ]
  },
  {
   "cell_type": "code",
   "execution_count": null,
   "metadata": {},
   "outputs": [],
   "source": []
  }
 ],
 "metadata": {
  "kernelspec": {
   "display_name": "Python 3",
   "language": "python",
   "name": "python3"
  },
  "language_info": {
   "codemirror_mode": {
    "name": "ipython",
    "version": 3
   },
   "file_extension": ".py",
   "mimetype": "text/x-python",
   "name": "python",
   "nbconvert_exporter": "python",
   "pygments_lexer": "ipython3",
   "version": "3.7.6"
  }
 },
 "nbformat": 4,
 "nbformat_minor": 4
}
