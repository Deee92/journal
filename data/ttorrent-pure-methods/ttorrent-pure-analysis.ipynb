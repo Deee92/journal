{
 "cells": [
  {
   "cell_type": "code",
   "execution_count": 1,
   "metadata": {},
   "outputs": [],
   "source": [
    "import pandas as pd\n",
    "import re"
   ]
  },
  {
   "cell_type": "code",
   "execution_count": 2,
   "metadata": {},
   "outputs": [
    {
     "data": {
      "text/plain": [
       "(172, 6)"
      ]
     },
     "execution_count": 2,
     "metadata": {},
     "output_type": "execute_result"
    }
   ],
   "source": [
    "df = pd.read_csv(\"./pure-methods-ttorrent.csv\")\n",
    "df.shape"
   ]
  },
  {
   "cell_type": "code",
   "execution_count": 3,
   "metadata": {},
   "outputs": [],
   "source": [
    "def extract_from_tags(tag, tags):\n",
    "    search_string = tag + \"=[\\w]+\"\n",
    "    extracted_tag = re.findall(search_string, tags)[0]\n",
    "    extracted_tag = re.findall(\"\\=(.*)\", extracted_tag)[0]\n",
    "    if extracted_tag == \"true\":\n",
    "        return True\n",
    "    else:\n",
    "        return False"
   ]
  },
  {
   "cell_type": "code",
   "execution_count": 4,
   "metadata": {},
   "outputs": [
    {
     "data": {
      "text/html": [
       "<div>\n",
       "<style scoped>\n",
       "    .dataframe tbody tr th:only-of-type {\n",
       "        vertical-align: middle;\n",
       "    }\n",
       "\n",
       "    .dataframe tbody tr th {\n",
       "        vertical-align: top;\n",
       "    }\n",
       "\n",
       "    .dataframe thead th {\n",
       "        text-align: right;\n",
       "    }\n",
       "</style>\n",
       "<table border=\"1\" class=\"dataframe\">\n",
       "  <thead>\n",
       "    <tr style=\"text-align: right;\">\n",
       "      <th></th>\n",
       "      <th>visibility</th>\n",
       "      <th>parent-FQN</th>\n",
       "      <th>method-name</th>\n",
       "      <th>param-list</th>\n",
       "      <th>return-type</th>\n",
       "      <th>local-variables</th>\n",
       "      <th>conditionals</th>\n",
       "      <th>multiple-statements</th>\n",
       "      <th>loops</th>\n",
       "      <th>parameters</th>\n",
       "      <th>returns</th>\n",
       "      <th>switches</th>\n",
       "      <th>ifs</th>\n",
       "      <th>static</th>\n",
       "      <th>returns-primitives</th>\n",
       "    </tr>\n",
       "  </thead>\n",
       "  <tbody>\n",
       "    <tr>\n",
       "      <th>0</th>\n",
       "      <td>public</td>\n",
       "      <td>com.turn.ttorrent.common.TorrentMetadataImpl</td>\n",
       "      <td>getDirectoryName</td>\n",
       "      <td></td>\n",
       "      <td>String</td>\n",
       "      <td>False</td>\n",
       "      <td>False</td>\n",
       "      <td>False</td>\n",
       "      <td>False</td>\n",
       "      <td>False</td>\n",
       "      <td>True</td>\n",
       "      <td>False</td>\n",
       "      <td>False</td>\n",
       "      <td>False</td>\n",
       "      <td>False</td>\n",
       "    </tr>\n",
       "    <tr>\n",
       "      <th>1</th>\n",
       "      <td>public</td>\n",
       "      <td>com.turn.ttorrent.client.Piece</td>\n",
       "      <td>equals</td>\n",
       "      <td>Object</td>\n",
       "      <td>boolean</td>\n",
       "      <td>False</td>\n",
       "      <td>False</td>\n",
       "      <td>False</td>\n",
       "      <td>False</td>\n",
       "      <td>True</td>\n",
       "      <td>True</td>\n",
       "      <td>False</td>\n",
       "      <td>True</td>\n",
       "      <td>False</td>\n",
       "      <td>True</td>\n",
       "    </tr>\n",
       "    <tr>\n",
       "      <th>2</th>\n",
       "      <td>public</td>\n",
       "      <td>com.turn.ttorrent.common.protocol.PeerMessage$...</td>\n",
       "      <td>equals</td>\n",
       "      <td>byte</td>\n",
       "      <td>boolean</td>\n",
       "      <td>False</td>\n",
       "      <td>False</td>\n",
       "      <td>False</td>\n",
       "      <td>False</td>\n",
       "      <td>True</td>\n",
       "      <td>True</td>\n",
       "      <td>False</td>\n",
       "      <td>False</td>\n",
       "      <td>False</td>\n",
       "      <td>True</td>\n",
       "    </tr>\n",
       "    <tr>\n",
       "      <th>3</th>\n",
       "      <td>public</td>\n",
       "      <td>com.turn.ttorrent.client.peer.SharingPeer</td>\n",
       "      <td>isInterested</td>\n",
       "      <td></td>\n",
       "      <td>boolean</td>\n",
       "      <td>False</td>\n",
       "      <td>False</td>\n",
       "      <td>False</td>\n",
       "      <td>False</td>\n",
       "      <td>False</td>\n",
       "      <td>True</td>\n",
       "      <td>False</td>\n",
       "      <td>False</td>\n",
       "      <td>False</td>\n",
       "      <td>True</td>\n",
       "    </tr>\n",
       "    <tr>\n",
       "      <th>4</th>\n",
       "      <td>public</td>\n",
       "      <td>com.turn.ttorrent.client.CommunicationManager</td>\n",
       "      <td>getPeersStorage</td>\n",
       "      <td></td>\n",
       "      <td>PeersStorage</td>\n",
       "      <td>False</td>\n",
       "      <td>False</td>\n",
       "      <td>False</td>\n",
       "      <td>False</td>\n",
       "      <td>False</td>\n",
       "      <td>True</td>\n",
       "      <td>False</td>\n",
       "      <td>False</td>\n",
       "      <td>False</td>\n",
       "      <td>False</td>\n",
       "    </tr>\n",
       "  </tbody>\n",
       "</table>\n",
       "</div>"
      ],
      "text/plain": [
       "  visibility                                         parent-FQN  \\\n",
       "0     public       com.turn.ttorrent.common.TorrentMetadataImpl   \n",
       "1     public                     com.turn.ttorrent.client.Piece   \n",
       "2     public  com.turn.ttorrent.common.protocol.PeerMessage$...   \n",
       "3     public          com.turn.ttorrent.client.peer.SharingPeer   \n",
       "4     public      com.turn.ttorrent.client.CommunicationManager   \n",
       "\n",
       "        method-name param-list   return-type local-variables conditionals  \\\n",
       "0  getDirectoryName                   String           False        False   \n",
       "1            equals     Object       boolean           False        False   \n",
       "2            equals       byte       boolean           False        False   \n",
       "3      isInterested                  boolean           False        False   \n",
       "4   getPeersStorage             PeersStorage           False        False   \n",
       "\n",
       "  multiple-statements  loops parameters returns switches    ifs static  \\\n",
       "0               False  False      False    True    False  False  False   \n",
       "1               False  False       True    True    False   True  False   \n",
       "2               False  False       True    True    False  False  False   \n",
       "3               False  False      False    True    False  False  False   \n",
       "4               False  False      False    True    False  False  False   \n",
       "\n",
       "  returns-primitives  \n",
       "0              False  \n",
       "1               True  \n",
       "2               True  \n",
       "3               True  \n",
       "4              False  "
      ]
     },
     "execution_count": 4,
     "metadata": {},
     "output_type": "execute_result"
    }
   ],
   "source": [
    "cols = [\"visibility\", \"parent-FQN\", \"method-name\", \"param-list\", \"return-type\", \n",
    "        \"local-variables\", \"conditionals\", \"multiple-statements\", \"loops\", \"parameters\", \"returns\",\n",
    "        \"switches\", \"ifs\", \"static\", \"returns-primitives\"]\n",
    "final_df = pd.DataFrame(columns = cols)\n",
    "for index, row in df.iterrows():\n",
    "    final_df.loc[index, 'visibility'] = row['visibility']\n",
    "    final_df.loc[index, 'parent-FQN'] = row['parent-FQN']\n",
    "    final_df.loc[index, 'method-name'] = row['method-name']\n",
    "    final_df.loc[index, 'param-list'] = row['param-list'].strip('[]')\n",
    "    final_df.loc[index, 'return-type'] = row['return-type']\n",
    "    final_df.loc[index, 'local-variables'] = extract_from_tags(\"local_variables\", str(row['tags']))\n",
    "    final_df.loc[index, 'conditionals'] = extract_from_tags(\"conditionals\", str(row['tags']))\n",
    "    final_df.loc[index, 'multiple-statements'] = extract_from_tags(\"multiple_statements\", str(row['tags']))\n",
    "    final_df.loc[index, 'loops'] = extract_from_tags(\"loops\", str(row['tags']))\n",
    "    final_df.loc[index, 'parameters'] = extract_from_tags(\"parameters\", str(row['tags']))\n",
    "    final_df.loc[index, 'returns'] = extract_from_tags(\"returns\", str(row['tags']))\n",
    "    final_df.loc[index, 'switches'] = extract_from_tags(\"switches\", str(row['tags']))\n",
    "    final_df.loc[index, 'ifs'] = extract_from_tags(\"ifs\", str(row['tags']))\n",
    "    final_df.loc[index, 'static'] = extract_from_tags(\"static\", str(row['tags']))\n",
    "    final_df.loc[index, 'returns-primitives'] = extract_from_tags(\"returns_primitives\", str(row['tags']))\n",
    "\n",
    "final_df.head()"
   ]
  },
  {
   "cell_type": "markdown",
   "metadata": {},
   "source": [
    "### Methods that return objects"
   ]
  },
  {
   "cell_type": "code",
   "execution_count": 5,
   "metadata": {
    "scrolled": true
   },
   "outputs": [
    {
     "data": {
      "text/plain": [
       "86"
      ]
     },
     "execution_count": 5,
     "metadata": {},
     "output_type": "execute_result"
    }
   ],
   "source": [
    "(final_df[\"returns-primitives\"] == False).sum()"
   ]
  },
  {
   "cell_type": "markdown",
   "metadata": {},
   "source": [
    "### Methods that accept parameters"
   ]
  },
  {
   "cell_type": "code",
   "execution_count": 6,
   "metadata": {},
   "outputs": [
    {
     "data": {
      "text/plain": [
       "8"
      ]
     },
     "execution_count": 6,
     "metadata": {},
     "output_type": "execute_result"
    }
   ],
   "source": [
    "(final_df[\"parameters\"] == True).sum()"
   ]
  },
  {
   "cell_type": "markdown",
   "metadata": {},
   "source": [
    "### Methods with if statements"
   ]
  },
  {
   "cell_type": "code",
   "execution_count": 7,
   "metadata": {},
   "outputs": [
    {
     "data": {
      "text/plain": [
       "1"
      ]
     },
     "execution_count": 7,
     "metadata": {},
     "output_type": "execute_result"
    }
   ],
   "source": [
    "(final_df[\"ifs\"] == True).sum()"
   ]
  },
  {
   "cell_type": "markdown",
   "metadata": {},
   "source": [
    "### Methods wtih conditionals ?:"
   ]
  },
  {
   "cell_type": "code",
   "execution_count": 8,
   "metadata": {},
   "outputs": [
    {
     "data": {
      "text/plain": [
       "1"
      ]
     },
     "execution_count": 8,
     "metadata": {},
     "output_type": "execute_result"
    }
   ],
   "source": [
    "(final_df[\"conditionals\"] == True).sum()"
   ]
  },
  {
   "cell_type": "markdown",
   "metadata": {},
   "source": [
    "### Methods with local variables"
   ]
  },
  {
   "cell_type": "code",
   "execution_count": 9,
   "metadata": {},
   "outputs": [
    {
     "data": {
      "text/plain": [
       "2"
      ]
     },
     "execution_count": 9,
     "metadata": {},
     "output_type": "execute_result"
    }
   ],
   "source": [
    "(final_df[\"local-variables\"] == True).sum()"
   ]
  },
  {
   "cell_type": "markdown",
   "metadata": {},
   "source": [
    "### Methods with multiple statements"
   ]
  },
  {
   "cell_type": "code",
   "execution_count": 10,
   "metadata": {
    "scrolled": true
   },
   "outputs": [
    {
     "data": {
      "text/plain": [
       "2"
      ]
     },
     "execution_count": 10,
     "metadata": {},
     "output_type": "execute_result"
    }
   ],
   "source": [
    "(final_df[\"multiple-statements\"] == True).sum()"
   ]
  },
  {
   "cell_type": "code",
   "execution_count": 11,
   "metadata": {
    "scrolled": false
   },
   "outputs": [
    {
     "name": "stdout",
     "output_type": "stream",
     "text": [
      "(7, 15)\n"
     ]
    },
    {
     "data": {
      "text/html": [
       "<div>\n",
       "<style scoped>\n",
       "    .dataframe tbody tr th:only-of-type {\n",
       "        vertical-align: middle;\n",
       "    }\n",
       "\n",
       "    .dataframe tbody tr th {\n",
       "        vertical-align: top;\n",
       "    }\n",
       "\n",
       "    .dataframe thead th {\n",
       "        text-align: right;\n",
       "    }\n",
       "</style>\n",
       "<table border=\"1\" class=\"dataframe\">\n",
       "  <thead>\n",
       "    <tr style=\"text-align: right;\">\n",
       "      <th></th>\n",
       "      <th>visibility</th>\n",
       "      <th>parent-FQN</th>\n",
       "      <th>method-name</th>\n",
       "      <th>param-list</th>\n",
       "      <th>return-type</th>\n",
       "      <th>local-variables</th>\n",
       "      <th>conditionals</th>\n",
       "      <th>multiple-statements</th>\n",
       "      <th>loops</th>\n",
       "      <th>parameters</th>\n",
       "      <th>returns</th>\n",
       "      <th>switches</th>\n",
       "      <th>ifs</th>\n",
       "      <th>static</th>\n",
       "      <th>returns-primitives</th>\n",
       "    </tr>\n",
       "  </thead>\n",
       "  <tbody>\n",
       "    <tr>\n",
       "      <th>1</th>\n",
       "      <td>public</td>\n",
       "      <td>com.turn.ttorrent.client.Piece</td>\n",
       "      <td>equals</td>\n",
       "      <td>Object</td>\n",
       "      <td>boolean</td>\n",
       "      <td>False</td>\n",
       "      <td>False</td>\n",
       "      <td>False</td>\n",
       "      <td>False</td>\n",
       "      <td>True</td>\n",
       "      <td>True</td>\n",
       "      <td>False</td>\n",
       "      <td>True</td>\n",
       "      <td>False</td>\n",
       "      <td>True</td>\n",
       "    </tr>\n",
       "    <tr>\n",
       "      <th>2</th>\n",
       "      <td>public</td>\n",
       "      <td>com.turn.ttorrent.common.protocol.PeerMessage$...</td>\n",
       "      <td>equals</td>\n",
       "      <td>byte</td>\n",
       "      <td>boolean</td>\n",
       "      <td>False</td>\n",
       "      <td>False</td>\n",
       "      <td>False</td>\n",
       "      <td>False</td>\n",
       "      <td>True</td>\n",
       "      <td>True</td>\n",
       "      <td>False</td>\n",
       "      <td>False</td>\n",
       "      <td>False</td>\n",
       "      <td>True</td>\n",
       "    </tr>\n",
       "    <tr>\n",
       "      <th>62</th>\n",
       "      <td>public</td>\n",
       "      <td>com.turn.ttorrent.common.Optional</td>\n",
       "      <td>orElse</td>\n",
       "      <td>T</td>\n",
       "      <td>T</td>\n",
       "      <td>False</td>\n",
       "      <td>True</td>\n",
       "      <td>False</td>\n",
       "      <td>False</td>\n",
       "      <td>True</td>\n",
       "      <td>True</td>\n",
       "      <td>False</td>\n",
       "      <td>False</td>\n",
       "      <td>False</td>\n",
       "      <td>False</td>\n",
       "    </tr>\n",
       "    <tr>\n",
       "      <th>63</th>\n",
       "      <td>public</td>\n",
       "      <td>com.turn.ttorrent.network.AcceptAttachmentImpl</td>\n",
       "      <td>isTimeoutElapsed</td>\n",
       "      <td>long</td>\n",
       "      <td>boolean</td>\n",
       "      <td>False</td>\n",
       "      <td>False</td>\n",
       "      <td>False</td>\n",
       "      <td>False</td>\n",
       "      <td>True</td>\n",
       "      <td>True</td>\n",
       "      <td>False</td>\n",
       "      <td>False</td>\n",
       "      <td>False</td>\n",
       "      <td>True</td>\n",
       "    </tr>\n",
       "    <tr>\n",
       "      <th>64</th>\n",
       "      <td>public</td>\n",
       "      <td>com.turn.ttorrent.network.ConnectTask</td>\n",
       "      <td>isTimeoutElapsed</td>\n",
       "      <td>long</td>\n",
       "      <td>boolean</td>\n",
       "      <td>True</td>\n",
       "      <td>False</td>\n",
       "      <td>True</td>\n",
       "      <td>False</td>\n",
       "      <td>True</td>\n",
       "      <td>True</td>\n",
       "      <td>False</td>\n",
       "      <td>False</td>\n",
       "      <td>False</td>\n",
       "      <td>True</td>\n",
       "    </tr>\n",
       "    <tr>\n",
       "      <th>65</th>\n",
       "      <td>public</td>\n",
       "      <td>com.turn.ttorrent.network.ReadWriteAttachment</td>\n",
       "      <td>isTimeoutElapsed</td>\n",
       "      <td>long</td>\n",
       "      <td>boolean</td>\n",
       "      <td>True</td>\n",
       "      <td>False</td>\n",
       "      <td>True</td>\n",
       "      <td>False</td>\n",
       "      <td>True</td>\n",
       "      <td>True</td>\n",
       "      <td>False</td>\n",
       "      <td>False</td>\n",
       "      <td>False</td>\n",
       "      <td>True</td>\n",
       "    </tr>\n",
       "    <tr>\n",
       "      <th>124</th>\n",
       "      <td>public</td>\n",
       "      <td>com.turn.ttorrent.tracker.TrackerRequestProces...</td>\n",
       "      <td>isBadAddress</td>\n",
       "      <td>String</td>\n",
       "      <td>boolean</td>\n",
       "      <td>False</td>\n",
       "      <td>False</td>\n",
       "      <td>False</td>\n",
       "      <td>False</td>\n",
       "      <td>True</td>\n",
       "      <td>True</td>\n",
       "      <td>False</td>\n",
       "      <td>False</td>\n",
       "      <td>False</td>\n",
       "      <td>True</td>\n",
       "    </tr>\n",
       "  </tbody>\n",
       "</table>\n",
       "</div>"
      ],
      "text/plain": [
       "    visibility                                         parent-FQN  \\\n",
       "1       public                     com.turn.ttorrent.client.Piece   \n",
       "2       public  com.turn.ttorrent.common.protocol.PeerMessage$...   \n",
       "62      public                  com.turn.ttorrent.common.Optional   \n",
       "63      public     com.turn.ttorrent.network.AcceptAttachmentImpl   \n",
       "64      public              com.turn.ttorrent.network.ConnectTask   \n",
       "65      public      com.turn.ttorrent.network.ReadWriteAttachment   \n",
       "124     public  com.turn.ttorrent.tracker.TrackerRequestProces...   \n",
       "\n",
       "          method-name param-list return-type local-variables conditionals  \\\n",
       "1              equals     Object     boolean           False        False   \n",
       "2              equals       byte     boolean           False        False   \n",
       "62             orElse          T           T           False         True   \n",
       "63   isTimeoutElapsed       long     boolean           False        False   \n",
       "64   isTimeoutElapsed       long     boolean            True        False   \n",
       "65   isTimeoutElapsed       long     boolean            True        False   \n",
       "124      isBadAddress     String     boolean           False        False   \n",
       "\n",
       "    multiple-statements  loops parameters returns switches    ifs static  \\\n",
       "1                 False  False       True    True    False   True  False   \n",
       "2                 False  False       True    True    False  False  False   \n",
       "62                False  False       True    True    False  False  False   \n",
       "63                False  False       True    True    False  False  False   \n",
       "64                 True  False       True    True    False  False  False   \n",
       "65                 True  False       True    True    False  False  False   \n",
       "124               False  False       True    True    False  False  False   \n",
       "\n",
       "    returns-primitives  \n",
       "1                 True  \n",
       "2                 True  \n",
       "62               False  \n",
       "63                True  \n",
       "64                True  \n",
       "65                True  \n",
       "124               True  "
      ]
     },
     "execution_count": 11,
     "metadata": {},
     "output_type": "execute_result"
    }
   ],
   "source": [
    "instrumentation_candidates_df = pd.DataFrame(columns = cols)\n",
    "instrumentation_candidates_df = final_df[((final_df['multiple-statements'] == True) | \n",
    "                                          (final_df['ifs'] == True) |\n",
    "                                          (final_df['conditionals'] == True) | \n",
    "                                          (final_df['parameters'] == True) | \n",
    "                                          (final_df['switches'] == True) |\n",
    "                                          (final_df['loops'] == True) |\n",
    "                                          (final_df['local-variables'] == True)) &\n",
    "                                          (final_df['static'] == False) & \n",
    "                                          (final_df['visibility'] == \"public\")]\n",
    "print(instrumentation_candidates_df.shape)\n",
    "instrumentation_candidates_df.to_csv(r'./instrumentation-candidates-pdfbox.csv', index=False)\n",
    "instrumentation_candidates_df.tail(60)"
   ]
  },
  {
   "cell_type": "code",
   "execution_count": 12,
   "metadata": {},
   "outputs": [
    {
     "data": {
      "text/plain": [
       "['org.apache.fontbox.cff.CFFParser$Format0FDSelect',\n",
       " 'org.apache.fontbox.cff.CFFParser$Format3FDSelect',\n",
       " 'org.apache.fontbox.cff.CharStringCommand$Key',\n",
       " 'org.apache.fontbox.cmap.CIDRange',\n",
       " 'org.apache.fontbox.cmap.CodespaceRange',\n",
       " 'org.apache.fontbox.ttf.GlyfSimpleDescript',\n",
       " 'org.apache.fontbox.ttf.HorizontalMetricsTable',\n",
       " 'org.apache.fontbox.ttf.KerningSubtable',\n",
       " 'org.apache.fontbox.ttf.KerningSubtable$PairData0Format0',\n",
       " 'org.apache.fontbox.ttf.OpenTypeScript$1',\n",
       " 'org.apache.fontbox.ttf.PostScriptTable',\n",
       " 'org.apache.fontbox.ttf.VerticalMetricsTable',\n",
       " 'org.apache.fontbox.type1.Token',\n",
       " 'org.apache.fontbox.util.BoundingBox',\n",
       " 'org.apache.pdfbox.cos.COSBoolean',\n",
       " 'org.apache.pdfbox.debugger.colorpane.DeviceNTableModel',\n",
       " 'org.apache.pdfbox.debugger.colorpane.IndexedTableModel',\n",
       " 'org.apache.pdfbox.debugger.ui.PageEntry',\n",
       " 'org.apache.pdfbox.filter.ASCII85InputStream',\n",
       " 'org.apache.pdfbox.pdfparser.PDFXRefStream',\n",
       " 'org.apache.pdfbox.pdfparser.XrefTrailerResolver',\n",
       " 'org.apache.pdfbox.pdmodel.PDPage$1',\n",
       " 'org.apache.pdfbox.pdmodel.font.PDCIDFontType0',\n",
       " 'org.apache.pdfbox.pdmodel.graphics.blend.BlendMode$1',\n",
       " 'org.apache.pdfbox.pdmodel.graphics.blend.BlendMode$12',\n",
       " 'org.apache.pdfbox.pdmodel.graphics.blend.BlendMode$2',\n",
       " 'org.apache.pdfbox.pdmodel.graphics.blend.BlendMode$3',\n",
       " 'org.apache.pdfbox.pdmodel.graphics.blend.BlendMode$4',\n",
       " 'org.apache.pdfbox.pdmodel.graphics.blend.BlendMode$7',\n",
       " 'org.apache.pdfbox.pdmodel.graphics.blend.BlendMode$8',\n",
       " 'org.apache.pdfbox.pdmodel.graphics.blend.BlendMode$9',\n",
       " 'org.apache.pdfbox.pdmodel.graphics.color.PDCalGray',\n",
       " 'org.apache.pdfbox.pdmodel.graphics.color.PDCalRGB',\n",
       " 'org.apache.pdfbox.pdmodel.graphics.color.PDDeviceCMYK',\n",
       " 'org.apache.pdfbox.pdmodel.graphics.color.PDDeviceGray',\n",
       " 'org.apache.pdfbox.pdmodel.graphics.color.PDDeviceRGB',\n",
       " 'org.apache.pdfbox.util.Matrix',\n",
       " 'org.apache.pdfbox.util.SmallMap',\n",
       " 'org.apache.xmpbox.type.BooleanType']"
      ]
     },
     "execution_count": 12,
     "metadata": {},
     "output_type": "execute_result"
    }
   ],
   "source": [
    "sorted(instrumentation_candidates_df['parent-FQN'].unique())"
   ]
  },
  {
   "cell_type": "code",
   "execution_count": null,
   "metadata": {},
   "outputs": [],
   "source": []
  }
 ],
 "metadata": {
  "kernelspec": {
   "display_name": "Python 3",
   "language": "python",
   "name": "python3"
  },
  "language_info": {
   "codemirror_mode": {
    "name": "ipython",
    "version": 3
   },
   "file_extension": ".py",
   "mimetype": "text/x-python",
   "name": "python",
   "nbconvert_exporter": "python",
   "pygments_lexer": "ipython3",
   "version": "3.7.6"
  }
 },
 "nbformat": 4,
 "nbformat_minor": 4
}
