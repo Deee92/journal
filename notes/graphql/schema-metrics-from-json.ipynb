{
 "cells": [
  {
   "cell_type": "code",
   "execution_count": 1,
   "metadata": {},
   "outputs": [],
   "source": [
    "import json\n",
    "import pandas as pd\n",
    "pd.options.display.max_rows = 4000"
   ]
  },
  {
   "cell_type": "code",
   "execution_count": 2,
   "metadata": {},
   "outputs": [],
   "source": [
    "frontapp_schema_meta = {}\n",
    "saleor_schema_meta = {}\n",
    "\n",
    "with open('./frontapp-schema.json', 'r') as json_file:\n",
    "    # this file is gitignored\n",
    "    frontapp_schema_meta = json.load(json_file)\n",
    "with open('./saleor-schema.json', 'r') as json_file:\n",
    "    saleor_schema_meta = json.load(json_file)\n",
    "\n",
    "frontapp_schema_df = pd.DataFrame(frontapp_schema_meta[\"types\"])\n",
    "saleor_schema_df = pd.DataFrame(saleor_schema_meta[\"data\"][\"__schema\"][\"types\"])"
   ]
  },
  {
   "cell_type": "code",
   "execution_count": 3,
   "metadata": {},
   "outputs": [
    {
     "name": "stdout",
     "output_type": "stream",
     "text": [
      "(124, 5)\n",
      "(708, 3)\n"
     ]
    }
   ],
   "source": [
    "print(frontapp_schema_df.shape)\n",
    "print(saleor_schema_df.shape)"
   ]
  },
  {
   "cell_type": "markdown",
   "metadata": {},
   "source": [
    "### Frontapp schema metrics"
   ]
  },
  {
   "cell_type": "code",
   "execution_count": 4,
   "metadata": {},
   "outputs": [
    {
     "name": "stdout",
     "output_type": "stream",
     "text": [
      "Kinds of types in schema: ['OBJECT' 'SCALAR' 'ENUM' 'INTERFACE']\n",
      "Introspection types: 8\n",
      "Enum types: 15\n",
      "Union types: 0\n",
      "Interface types: 4\n",
      "Scalar types: 5\n",
      "Object types: 91\n",
      "Input types: 0\n",
      "Query entrypoints (may include introspections): 23\n"
     ]
    }
   ],
   "source": [
    "print(\"Kinds of types in schema:\", frontapp_schema_df.kind.unique())\n",
    "\n",
    "introspection_df = frontapp_schema_df[frontapp_schema_df.name.str.contains(\"_\")]\n",
    "print(\"Introspection types:\", introspection_df.shape[0])\n",
    "# print(introspection_df.head(introspection_df.shape[0]))\n",
    "\n",
    "enum_df = frontapp_schema_df[(frontapp_schema_df.kind == \"ENUM\") &\n",
    "                           (frontapp_schema_df.name.str.contains(\"_\") == 0)]\n",
    "print(\"Enum types:\", enum_df.shape[0])\n",
    "# print(enum_df.head(enum_df.shape[0]))\n",
    "\n",
    "union_df = frontapp_schema_df[(frontapp_schema_df.kind == \"UNION\") &\n",
    "                           (frontapp_schema_df.name.str.contains(\"_\") == 0)]\n",
    "print(\"Union types:\", union_df.shape[0])\n",
    "# print(union_df.head(union_df.shape[0]))\n",
    "\n",
    "interface_df = frontapp_schema_df[(frontapp_schema_df.kind == \"INTERFACE\") & \n",
    "                                (frontapp_schema_df.name.str.contains(\"_\") == 0)]\n",
    "print(\"Interface types:\", interface_df.shape[0])\n",
    "# print(interface_df.head(interface_df.shape[0]))\n",
    "\n",
    "scalar_df = frontapp_schema_df[(frontapp_schema_df.kind == \"SCALAR\") &\n",
    "                             (frontapp_schema_df.name.str.contains(\"_\") == 0)]\n",
    "print(\"Scalar types:\", scalar_df.shape[0])\n",
    "# print(scalar_df.head(scalar_df.shape[0]))\n",
    "\n",
    "object_df = frontapp_schema_df[(frontapp_schema_df.kind == \"OBJECT\") & \n",
    "                             (frontapp_schema_df.name != \"Query\") & \n",
    "                             (frontapp_schema_df.name != \"Mutation\") &\n",
    "                             (frontapp_schema_df.name.str.contains(\"_\") == 0)]\n",
    "print(\"Object types:\", object_df.shape[0])\n",
    "# print(object_df.head(object_df.shape[0]))\n",
    "\n",
    "input_df = frontapp_schema_df[(frontapp_schema_df.kind == \"INPUT_OBJECT\")]\n",
    "print(\"Input types:\", input_df.shape[0])\n",
    "# print(input_df.head(input_df.shape[0]))\n",
    "\n",
    "query_df = frontapp_schema_df[frontapp_schema_df.name == \"Query\"][\"fields\"].tolist()\n",
    "query_df = pd.DataFrame(query_df).transpose()\n",
    "print(\"Query entrypoints (may include introspections):\", query_df.shape[0])\n",
    "# print(query_df.head(query_df.shape[0]))"
   ]
  },
  {
   "cell_type": "code",
   "execution_count": 5,
   "metadata": {},
   "outputs": [
    {
     "data": {
      "text/plain": [
       "0     {'name': 'company', 'type': {'name': 'Company'...\n",
       "1     {'name': 'companies', 'type': {'name': None, '...\n",
       "2     {'name': 'article', 'type': {'name': 'BaseArti...\n",
       "3     {'name': 'articles', 'type': {'name': 'Article...\n",
       "4     {'name': 'videos', 'type': {'name': 'Videos', ...\n",
       "5     {'name': 'video', 'type': {'name': 'Video', 'k...\n",
       "6     {'name': 'externalArticle', 'type': {'name': '...\n",
       "7     {'name': 'upcomingEvents', 'type': {'name': No...\n",
       "8     {'name': 'recentEvents', 'type': {'name': None...\n",
       "9     {'name': 'event', 'type': {'name': 'Event', 'k...\n",
       "10    {'name': 'portfolio', 'type': {'name': 'Portfo...\n",
       "11    {'name': 'me', 'type': {'name': 'UserInfo', 'k...\n",
       "12    {'name': 'search', 'type': {'name': 'SearchRes...\n",
       "13    {'name': 'searchResults', 'type': {'name': Non...\n",
       "14    {'name': 'ratingStatistics', 'type': {'name': ...\n",
       "15    {'name': 'equityTransactions', 'type': {'name'...\n",
       "16    {'name': 'equityTransaction', 'type': {'name':...\n",
       "17    {'name': 'topCommunityPosts', 'type': {'name':...\n",
       "18    {'name': 'themes', 'type': {'name': None, 'kin...\n",
       "19    {'name': 'nowTeasers', 'type': {'name': None, ...\n",
       "20    {'name': 'indexChart', 'type': {'name': None, ...\n",
       "21    {'name': 'person', 'type': {'name': 'Person', ...\n",
       "22    {'name': 'persons', 'type': {'name': None, 'ki...\n",
       "Name: 0, dtype: object"
      ]
     },
     "execution_count": 5,
     "metadata": {},
     "output_type": "execute_result"
    }
   ],
   "source": [
    "query_df[0]"
   ]
  },
  {
   "cell_type": "markdown",
   "metadata": {},
   "source": [
    "### Saleor schema metrics"
   ]
  },
  {
   "cell_type": "code",
   "execution_count": 6,
   "metadata": {},
   "outputs": [
    {
     "name": "stdout",
     "output_type": "stream",
     "text": [
      "Kinds of types in schema: ['OBJECT' 'INTERFACE' 'SCALAR' 'ENUM' 'INPUT_OBJECT' 'UNION']\n",
      "Introspection types: 11\n",
      "Enum types: 84\n",
      "Union types: 1\n",
      "Interface types: 3\n",
      "Scalar types: 13\n",
      "Object types: 458\n",
      "Input types: 136\n",
      "Query entrypoints (may include introspections): 69\n"
     ]
    }
   ],
   "source": [
    "print(\"Kinds of types in schema:\", saleor_schema_df.kind.unique())\n",
    "\n",
    "introspection_df = saleor_schema_df[saleor_schema_df.name.str.contains(\"_\")]\n",
    "print(\"Introspection types:\", introspection_df.shape[0])\n",
    "# print(introspection_df.head(introspection_df.shape[0]))\n",
    "\n",
    "enum_df = saleor_schema_df[(saleor_schema_df.kind == \"ENUM\") &\n",
    "                           (saleor_schema_df.name.str.contains(\"_\") == 0)]\n",
    "print(\"Enum types:\", enum_df.shape[0])\n",
    "# print(enum_df.head(enum_df.shape[0]))\n",
    "\n",
    "union_df = saleor_schema_df[(saleor_schema_df.kind == \"UNION\") &\n",
    "                           (saleor_schema_df.name.str.contains(\"_\") == 0)]\n",
    "print(\"Union types:\", union_df.shape[0])\n",
    "# print(union_df.head(union_df.shape[0]))\n",
    "\n",
    "interface_df = saleor_schema_df[(saleor_schema_df.kind == \"INTERFACE\") & \n",
    "                                (saleor_schema_df.name.str.contains(\"_\") == 0)]\n",
    "print(\"Interface types:\", interface_df.shape[0])\n",
    "# print(interface_df.head(interface_df.shape[0]))\n",
    "\n",
    "scalar_df = saleor_schema_df[(saleor_schema_df.kind == \"SCALAR\") &\n",
    "                             (saleor_schema_df.name.str.contains(\"_\") == 0)]\n",
    "print(\"Scalar types:\", scalar_df.shape[0])\n",
    "# print(scalar_df.head(scalar_df.shape[0]))\n",
    "\n",
    "object_df = saleor_schema_df[(saleor_schema_df.kind == \"OBJECT\") & \n",
    "                             (saleor_schema_df.name != \"Query\") & \n",
    "                             (saleor_schema_df.name != \"Mutation\") &\n",
    "                             (saleor_schema_df.name.str.contains(\"_\") == 0)]\n",
    "print(\"Object types:\", object_df.shape[0])\n",
    "# print(object_df.head(object_df.shape[0]))\n",
    "\n",
    "input_df = saleor_schema_df[(saleor_schema_df.kind == \"INPUT_OBJECT\")]\n",
    "print(\"Input types:\", input_df.shape[0])\n",
    "# print(input_df.head(input_df.shape[0]))\n",
    "\n",
    "query_df = saleor_schema_df[saleor_schema_df.name == \"Query\"][\"fields\"].tolist()\n",
    "query_df = pd.DataFrame(query_df).transpose()\n",
    "print(\"Query entrypoints (may include introspections):\", query_df.shape[0])\n",
    "# print(query_df.head(query_df.shape[0]))"
   ]
  },
  {
   "cell_type": "code",
   "execution_count": 7,
   "metadata": {},
   "outputs": [
    {
     "data": {
      "text/plain": [
       "0     {'name': 'webhook', 'type': {'name': 'Webhook'...\n",
       "1     {'name': 'webhookEvents', 'type': {'name': Non...\n",
       "2     {'name': 'webhookSamplePayload', 'type': {'nam...\n",
       "3     {'name': 'warehouse', 'type': {'name': 'Wareho...\n",
       "4     {'name': 'warehouses', 'type': {'name': 'Wareh...\n",
       "5     {'name': 'translations', 'type': {'name': 'Tra...\n",
       "6     {'name': 'translation', 'type': {'name': 'Tran...\n",
       "7     {'name': 'stock', 'type': {'name': 'Stock', 'k...\n",
       "8     {'name': 'stocks', 'type': {'name': 'StockCoun...\n",
       "9     {'name': 'shop', 'type': {'name': None, 'kind'...\n",
       "10    {'name': 'shippingZone', 'type': {'name': 'Shi...\n",
       "11    {'name': 'shippingZones', 'type': {'name': 'Sh...\n",
       "12    {'name': 'digitalContent', 'type': {'name': 'D...\n",
       "13    {'name': 'digitalContents', 'type': {'name': '...\n",
       "14    {'name': 'attributes', 'type': {'name': 'Attri...\n",
       "15    {'name': 'attribute', 'type': {'name': 'Attrib...\n",
       "16    {'name': 'categories', 'type': {'name': 'Categ...\n",
       "17    {'name': 'category', 'type': {'name': 'Categor...\n",
       "18    {'name': 'collection', 'type': {'name': 'Colle...\n",
       "19    {'name': 'collections', 'type': {'name': 'Coll...\n",
       "20    {'name': 'product', 'type': {'name': 'Product'...\n",
       "21    {'name': 'products', 'type': {'name': 'Product...\n",
       "22    {'name': 'productType', 'type': {'name': 'Prod...\n",
       "23    {'name': 'productTypes', 'type': {'name': 'Pro...\n",
       "24    {'name': 'productVariant', 'type': {'name': 'P...\n",
       "25    {'name': 'productVariants', 'type': {'name': '...\n",
       "26    {'name': 'reportProductSales', 'type': {'name'...\n",
       "27    {'name': 'payment', 'type': {'name': 'Payment'...\n",
       "28    {'name': 'payments', 'type': {'name': 'Payment...\n",
       "29    {'name': 'page', 'type': {'name': 'Page', 'kin...\n",
       "30    {'name': 'pages', 'type': {'name': 'PageCounta...\n",
       "31    {'name': 'homepageEvents', 'type': {'name': 'O...\n",
       "32    {'name': 'order', 'type': {'name': 'Order', 'k...\n",
       "33    {'name': 'orders', 'type': {'name': 'OrderCoun...\n",
       "34    {'name': 'draftOrders', 'type': {'name': 'Orde...\n",
       "35    {'name': 'ordersTotal', 'type': {'name': 'Taxe...\n",
       "36    {'name': 'orderByToken', 'type': {'name': 'Ord...\n",
       "37    {'name': 'menu', 'type': {'name': 'Menu', 'kin...\n",
       "38    {'name': 'menus', 'type': {'name': 'MenuCounta...\n",
       "39    {'name': 'menuItem', 'type': {'name': 'MenuIte...\n",
       "40    {'name': 'menuItems', 'type': {'name': 'MenuIt...\n",
       "41    {'name': 'giftCard', 'type': {'name': 'GiftCar...\n",
       "42    {'name': 'giftCards', 'type': {'name': 'GiftCa...\n",
       "43    {'name': 'plugin', 'type': {'name': 'Plugin', ...\n",
       "44    {'name': 'plugins', 'type': {'name': 'PluginCo...\n",
       "45    {'name': 'sale', 'type': {'name': 'Sale', 'kin...\n",
       "46    {'name': 'sales', 'type': {'name': 'SaleCounta...\n",
       "47    {'name': 'voucher', 'type': {'name': 'Voucher'...\n",
       "48    {'name': 'vouchers', 'type': {'name': 'Voucher...\n",
       "49    {'name': 'exportFile', 'type': {'name': 'Expor...\n",
       "50    {'name': 'exportFiles', 'type': {'name': 'Expo...\n",
       "51    {'name': 'taxTypes', 'type': {'name': None, 'k...\n",
       "52    {'name': 'checkout', 'type': {'name': 'Checkou...\n",
       "53    {'name': 'checkouts', 'type': {'name': 'Checko...\n",
       "54    {'name': 'checkoutLine', 'type': {'name': 'Che...\n",
       "55    {'name': 'checkoutLines', 'type': {'name': 'Ch...\n",
       "56    {'name': 'appsInstallations', 'type': {'name':...\n",
       "57    {'name': 'apps', 'type': {'name': 'AppCountabl...\n",
       "58    {'name': 'app', 'type': {'name': 'App', 'kind'...\n",
       "59    {'name': 'addressValidationRules', 'type': {'n...\n",
       "60    {'name': 'address', 'type': {'name': 'Address'...\n",
       "61    {'name': 'customers', 'type': {'name': 'UserCo...\n",
       "62    {'name': 'permissionGroups', 'type': {'name': ...\n",
       "63    {'name': 'permissionGroup', 'type': {'name': '...\n",
       "64    {'name': 'me', 'type': {'name': 'User', 'kind'...\n",
       "65    {'name': 'staffUsers', 'type': {'name': 'UserC...\n",
       "66    {'name': 'user', 'type': {'name': 'User', 'kin...\n",
       "67    {'name': '_entities', 'type': {'name': None, '...\n",
       "68    {'name': '_service', 'type': {'name': '_Servic...\n",
       "Name: 0, dtype: object"
      ]
     },
     "execution_count": 7,
     "metadata": {},
     "output_type": "execute_result"
    }
   ],
   "source": [
    "query_df[0]"
   ]
  },
  {
   "cell_type": "code",
   "execution_count": null,
   "metadata": {},
   "outputs": [],
   "source": []
  }
 ],
 "metadata": {
  "kernelspec": {
   "display_name": "Python 3",
   "language": "python",
   "name": "python3"
  },
  "language_info": {
   "codemirror_mode": {
    "name": "ipython",
    "version": 3
   },
   "file_extension": ".py",
   "mimetype": "text/x-python",
   "name": "python",
   "nbconvert_exporter": "python",
   "pygments_lexer": "ipython3",
   "version": "3.7.6"
  }
 },
 "nbformat": 4,
 "nbformat_minor": 4
}
